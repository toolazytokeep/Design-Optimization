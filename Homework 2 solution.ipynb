{
 "cells": [
  {
   "cell_type": "markdown",
   "id": "3f21dd42",
   "metadata": {},
   "source": [
    "# Design Optimization Homework 2\n",
    "\n",
    "## Problem 1 solution\n",
    "\n",
    "Find a stationary point\n",
    "\n",
    "$$\\frac{\\partial f}{\\partial x_1} = 4x_1-4x_2=0 $$\n",
    "$$\\frac{\\partial f}{\\partial x_2} = -4x_1+3x_2+1=0 $$\n",
    "\n",
    "Solve these to get the stationary point $x_* = [1,1]^T$.\n",
    "\\\n",
    "Calculate the Hessian to get $H=\\begin{bmatrix}\n",
    "4 & -4\\\\\n",
    "-4 & 3 \n",
    "\\end{bmatrix}$. \n",
    "\\\n",
    "Eigen value of this hessian matrix is given as: $\\lambda_{1,2} = \\frac{-7 \\pm \\sqrt65}{2} $.\n",
    "\n",
    "It is indefinite as one eigenvalue is positive and the other one is negative. \n",
    "So, the stationary point is a <u>saddle point</u>. \n",
    "        \n",
    "Now, to find the direction of downslope, denote $\\partial \\textbf{x}_*=\\textbf{x}-\\textbf{x}_*$ and $\\partial f_* = f(\\textbf{x})-f(\\textbf{x}_*)$\n",
    "\\\n",
    "Therefore,\n",
    "\n",
    "$$\n",
    "            \\begin{aligned}\n",
    "                \\partial f_* & = \\nabla f_* \\partial \\textbf{x}_* + \\frac{1}{2} \\partial \\textbf{x}_*^T \\textbf{H} \\partial\\textbf{x}_* \\\\\n",
    "                & = \\frac{1}{2}(2\\partial x_1 -\\partial x_2)(2\\partial x_1 -3\\partial x_2)\n",
    "            \\end{aligned}\n",
    "$$\n",
    "\n",
    "To get the downslope value $\\frac{1}{2}(2\\partial x_1 -\\partial x_2)(2\\partial x_1 -3\\partial x_2) < 0 $ or $ (2\\partial x_1 -\\partial x_2)(2\\partial x_1 -3\\partial x_2) < 0. $\n",
    "\n",
    "By setting $\\partial f_*<0$ to get the downslopes $2\\partial x_1 -\\partial x_2<0$ and $2\\partial x_1 -3\\partial x_2>0$ or $2\\partial x_1 -\\partial x_2>0$ and $2\\partial x_1 -3\\partial x_2<0$.\n",
    "\n",
    "Hence, \n",
    "The value of a=2, b=1, c=2, d=3. "
   ]
  },
  {
   "cell_type": "markdown",
   "id": "3cda56ba",
   "metadata": {},
   "source": [
    "## Problem 2 solution\n",
    "**Part (a)**\n",
    "\n",
    "Solve the following problem\n",
    "\n",
    "\n",
    "$$ \\min_{x_1,x_2,x_3}  \\quad (x_1+1)^2+x_2^2 + (x_3-1)^2 $$                \n",
    "$$ \\text{subject to:} \\quad x_1+2x_2+3x_3=1 $$\n",
    "\n",
    "Substituting $x_1=1-2x_2-3x_3$, the problem reduces to an unconstrained optimization problem. \n",
    "\n",
    "$$ minimize: f =\\quad (2-2x_2-3x_3)^2 + x_2^2 +(x_3-1)^2 = 5x_2^2- 8x_2+12x_2x_3- 14x_3+10x_3^2 +5 $$\n",
    "\n",
    "Hence, the gradient is given as:\n",
    "$G=\\begin{bmatrix}\n",
    "10x_2 +12x_3 -8\\\\\n",
    "20x_3+12x_2-14 \n",
    "\\end{bmatrix}$. \n",
    "\n",
    "Setting gradient to zero, we find the values of $x_1,x_2,x_3$.\n",
    "\n",
    "The solution is $x_1=-15/14,x_2=-1/7,x_3=11/14$.\n",
    "\n",
    "The Hessian matrix is given as:\n",
    "$H=\\begin{bmatrix}\n",
    "10 & 12\\\\\n",
    "12 & 20 \n",
    "\\end{bmatrix}$.\n",
    "\n",
    "With eigen values, $\\lambda_1= 28$ and $\\lambda_2=2 $.\n",
    "\n",
    "The unconstrained problem has positive definite Hessian everywhere. The problem is thus convex. You can also show that the original problem has a convex objective function and a convex feasible solution set."
   ]
  },
  {
   "cell_type": "markdown",
   "id": "1cb067e0",
   "metadata": {},
   "source": [
    "**Part (b)**\n",
    "\n",
    "**1. Solving with gradient descent algorithm**"
   ]
  },
  {
   "cell_type": "code",
   "execution_count": 9,
   "id": "76909dcc",
   "metadata": {},
   "outputs": [
    {
     "name": "stdout",
     "output_type": "stream",
     "text": [
      "[array([[2],\n",
      "       [5]]), array([[1.4375  ],\n",
      "       [4.140625]]), array([[0.99951172],\n",
      "       [3.46826172]]), array([[0.65877533],\n",
      "       [2.9420166 ]]), array([[0.39399445],\n",
      "       [2.52994132]]), array([[0.18853164],\n",
      "       [2.20707601]]), array([[0.02938923],\n",
      "       [1.95392054]]), array([[-0.09358686],\n",
      "       [ 1.75524022]]), array([[-0.18832916],\n",
      "       [ 1.5991327 ]]), array([[-0.26103463],\n",
      "       [ 1.47629908]]), array([[-0.31654434],\n",
      "       [ 1.37947434]]), array([[-0.35864003],\n",
      "       [ 1.30298251]]), array([[-0.39027589],\n",
      "       [ 1.24238899]]), array([[-0.41375955],\n",
      "       [ 1.19422908]]), array([[-0.43089356],\n",
      "       [ 1.15579574]]), array([[-0.44308586],\n",
      "       [ 1.12497393]]), array([[-0.45143608],\n",
      "       [ 1.10011105]]), array([[-0.46217001],\n",
      "       [ 1.05972061]]), array([[-0.46365356],\n",
      "       [ 1.0339648 ]]), array([[-0.46007609],\n",
      "       [ 1.01653584]]), array([[-0.44750326],\n",
      "       [ 0.99122948]]), array([[-0.3749684 ],\n",
      "       [ 0.93441067]]), array([[-0.34142115],\n",
      "       [ 0.92262363]]), array([[-0.29858016],\n",
      "       [ 0.87819628]]), array([[-0.28459747],\n",
      "       [ 0.87879117]]), array([[-0.24703738],\n",
      "       [ 0.85870945]]), array([[-0.23667111],\n",
      "       [ 0.84560067]]), array([[-0.22295217],\n",
      "       [ 0.84110316]]), array([[-0.21443443],\n",
      "       [ 0.83193834]]), array([[-0.1942989 ],\n",
      "       [ 0.82374415]]), array([[-0.19248455],\n",
      "       [ 0.81926614]]), array([[-0.18077808],\n",
      "       [ 0.80982761]]), array([[-0.17516248],\n",
      "       [ 0.80812665]]), array([[-0.17178092],\n",
      "       [ 0.8043402 ]]), array([[-0.167673  ],\n",
      "       [ 0.80275064]]), array([[-0.16220771],\n",
      "       [ 0.79738353]]), array([[-0.16053663],\n",
      "       [ 0.79734672]]), array([[-0.15588592],\n",
      "       [ 0.79478487]]), array([[-0.15454587],\n",
      "       [ 0.79321822]]), array([[-0.15286837],\n",
      "       [ 0.79260485]]), array([[-0.15069018],\n",
      "       [ 0.79039528]]), array([[-0.14999773],\n",
      "       [ 0.79040705]]), array([[-0.14811114],\n",
      "       [ 0.78938602]]), array([[-0.14758119],\n",
      "       [ 0.78873685]]), array([[-0.14689558],\n",
      "       [ 0.78850168]]), array([[-0.14646211],\n",
      "       [ 0.78804627]]), array([[-0.14545387],\n",
      "       [ 0.78762376]]), array([[-0.14535845],\n",
      "       [ 0.78740411]]), array([[-0.14476656],\n",
      "       [ 0.7869315 ]]), array([[-0.14448609],\n",
      "       [ 0.78684204]]), array([[-0.14431381],\n",
      "       [ 0.78665405]]), array([[-0.14390263],\n",
      "       [ 0.78648964]]), array([[-0.14386667],\n",
      "       [ 0.7863971 ]]), array([[-0.14362898],\n",
      "       [ 0.78620436]]), array([[-0.14351414],\n",
      "       [ 0.78617065]]), array([[-0.14344579],\n",
      "       [ 0.78609294]]), array([[-0.14336188],\n",
      "       [ 0.7860611 ]]), array([[-0.14325119],\n",
      "       [ 0.78595116]]), array([[-0.14321688],\n",
      "       [ 0.78595088]]), array([[-0.1431221 ],\n",
      "       [ 0.78589899]]), array([[-0.14309503],\n",
      "       [ 0.78586683]]), array([[-0.14306076],\n",
      "       [ 0.78585457]]), array([[-0.14301666],\n",
      "       [ 0.78580928]]), array([[-0.14300244],\n",
      "       [ 0.78580973]]), array([[-0.14296399],\n",
      "       [ 0.78578906]]), array([[-0.14295329],\n",
      "       [ 0.78577572]]), array([[-0.14293928],\n",
      "       [ 0.78577104]]), array([[-0.14293051],\n",
      "       [ 0.7857617 ]]), array([[-0.14290992],\n",
      "       [ 0.78575321]]), array([[-0.14290803],\n",
      "       [ 0.78574867]]), array([[-0.14289601],\n",
      "       [ 0.78573903]]), array([[-0.14289027],\n",
      "       [ 0.78573725]]), array([[-0.14288679],\n",
      "       [ 0.78573339]]), array([[-0.14287839],\n",
      "       [ 0.78573009]]), array([[-0.14287768],\n",
      "       [ 0.78572818]]), array([[-0.14287285],\n",
      "       [ 0.78572425]]), array([[-0.1428705 ],\n",
      "       [ 0.78572358]]), array([[-0.14286912],\n",
      "       [ 0.78572198]]), array([[-0.14286741],\n",
      "       [ 0.78572135]]), array([[-0.14286517],\n",
      "       [ 0.78571909]]), array([[-0.14286446],\n",
      "       [ 0.7857191 ]]), array([[-0.14286253],\n",
      "       [ 0.78571805]]), array([[-0.14286198],\n",
      "       [ 0.78571739]]), array([[-0.14286128],\n",
      "       [ 0.78571714]]), array([[-0.14286084],\n",
      "       [ 0.78571668]])]\n",
      "The point in the plane is x1 = [-1.07142836] x2 = [-0.14286084] x3 = [0.78571668]\n"
     ]
    },
    {
     "name": "stderr",
     "output_type": "stream",
     "text": [
      "C:\\Users\\adity\\AppData\\Local\\Temp\\ipykernel_17920\\111133271.py:42: RuntimeWarning: divide by zero encountered in log\n",
      "  f_error_list.append(np.log(abs(obj(soln[i]) - obj(soln[-1]))))\n"
     ]
    },
    {
     "data": {
      "image/png": "[encoded data removed]",
      "text/plain": [
       "<Figure size 432x288 with 1 Axes>"
      ]
     },
     "metadata": {
      "needs_background": "light"
     },
     "output_type": "display_data"
    },
    {
     "data": {
      "image/png": "[encoded data removed]",
      "text/plain": [
       "<Figure size 432x288 with 1 Axes>"
      ]
     },
     "metadata": {
      "needs_background": "light"
     },
     "output_type": "display_data"
    }
   ],
   "source": [
    "import numpy as np\n",
    "import matplotlib.pyplot as mplt\n",
    "\n",
    "def obj(x):\n",
    "    return 5 * x[0] ** 2 + 10 * x[1] ** 2 + 12 * x[0] * x[1] - 8 * x[0] - 14 * x[1] + 5\n",
    "\n",
    "def grad(x):\n",
    "    return np.array([10 * x[0] + 12 * x[1] - 8, 20 * x[1] + 12 * x[0] - 14])\n",
    "\n",
    "eps = 1e-5  # using epsilon as termination criteria\n",
    "x_0 = np.array([[2], [5]]) # where x_0 is the initial guess\n",
    "iter = 0  # counter\n",
    "soln = [x_0]\n",
    "x = soln[iter]  # starting with the initial guess of 2,5\n",
    "error = np.linalg.norm(grad(x), ord=2)\n",
    "\n",
    "error_list = list()\n",
    "iter_list = list()\n",
    "error_list.append(error)\n",
    "iter_list.append(iter)\n",
    "\n",
    "def line_search(x):\n",
    "    dx = 1.  # step size\n",
    "    phi = lambda dx, x: obj(x) - dx * 0.8 * np.matmul(grad(x).T, grad(x))  # define phi as a search criterion\n",
    "    while phi(dx, x) < obj(x - dx * grad(x)):  # if f(x+dx*d)>phi(dx) then backtrack. d is the search direction\n",
    "        dx = 0.5 * dx\n",
    "    return dx\n",
    "\n",
    "while error >= eps:  # keep searching while gradient norm is larger than eps\n",
    "    x_star = line_search(x)\n",
    "    x = x - x_star * grad(x)\n",
    "    soln.append(x)\n",
    "    error = np.linalg.norm(grad(x), ord=2)\n",
    "    iter += 1\n",
    "    error_list.append(error)\n",
    "    iter_list.append(iter)\n",
    "\n",
    "print(soln)  # print the search trajectory\n",
    "print('The point in the plane is', 'x1 =', 1-2*soln[-1][0]-3*soln[-1][1], 'x2 =', soln[-1][0], 'x3 =', soln[-1][1])\n",
    "f_error_list = list()\n",
    "for i in range(len(iter_list)):\n",
    "    f_error_list.append(np.log(abs(obj(soln[i]) - obj(soln[-1]))))\n",
    "    \n",
    "mplt.figure(1)\n",
    "mplt.plot(iter_list, f_error_list)\n",
    "mplt.xlabel('iteration number')\n",
    "mplt.ylabel('log|f - $f^*$|')\n",
    "mplt.title('Gradient descent with line search')\n",
    "mplt.show()\n",
    "\n",
    "mplt.figure(2)\n",
    "mplt.plot(iter_list, error_list)\n",
    "mplt.xlabel('iteration number')\n",
    "mplt.ylabel('error')\n",
    "mplt.show()"
   ]
  },
  {
   "cell_type": "markdown",
   "id": "f09a1220",
   "metadata": {},
   "source": [
    "**2. Solving with newtons algorithm**"
   ]
  },
  {
   "cell_type": "code",
   "execution_count": 11,
   "id": "e66205ad",
   "metadata": {},
   "outputs": [
    {
     "name": "stdout",
     "output_type": "stream",
     "text": [
      "[array([[2],\n",
      "       [5]]), array([[0.92857143],\n",
      "       [2.89285714]]), array([[0.39285714],\n",
      "       [1.83928571]]), array([[0.125 ],\n",
      "       [1.3125]]), array([[-0.00892857],\n",
      "       [ 1.04910714]]), array([[-0.07589286],\n",
      "       [ 0.91741071]]), array([[-0.109375 ],\n",
      "       [ 0.8515625]]), array([[-0.12611607],\n",
      "       [ 0.81863839]]), array([[-0.13448661],\n",
      "       [ 0.80217634]]), array([[-0.13867187],\n",
      "       [ 0.79394531]]), array([[-0.14076451],\n",
      "       [ 0.7898298 ]]), array([[-0.14181083],\n",
      "       [ 0.78777204]]), array([[-0.14233398],\n",
      "       [ 0.78674316]]), array([[-0.14259556],\n",
      "       [ 0.78622872]]), array([[-0.14272635],\n",
      "       [ 0.78597151]]), array([[-0.14279175],\n",
      "       [ 0.7858429 ]]), array([[-0.14282445],\n",
      "       [ 0.78577859]]), array([[-0.14284079],\n",
      "       [ 0.78574644]]), array([[-0.14284897],\n",
      "       [ 0.78573036]]), array([[-0.14285306],\n",
      "       [ 0.78572232]]), array([[-0.1428551],\n",
      "       [ 0.7857183]]), array([[-0.14285612],\n",
      "       [ 0.7857163 ]]), array([[-0.14285663],\n",
      "       [ 0.78571529]]), array([[-0.14285689],\n",
      "       [ 0.78571479]]), array([[-0.14285702],\n",
      "       [ 0.78571454]])]\n",
      "The point in the plane is x1 = [-1.07142958] x2 = [-0.14285702] x3 = [0.78571454]\n"
     ]
    },
    {
     "name": "stderr",
     "output_type": "stream",
     "text": [
      "C:\\Users\\adity\\AppData\\Local\\Temp\\ipykernel_17920\\979631453.py:37: RuntimeWarning: divide by zero encountered in log\n",
      "  f_error_list.append(np.log(abs(obj(soln[i]) - obj(soln[-1]))))\n"
     ]
    },
    {
     "data": {
      "image/png": "[encoded data removed]",
      "text/plain": [
       "<Figure size 432x288 with 1 Axes>"
      ]
     },
     "metadata": {
      "needs_background": "light"
     },
     "output_type": "display_data"
    },
    {
     "data": {
      "image/png": "[encoded data removed]",
      "text/plain": [
       "<Figure size 432x288 with 1 Axes>"
      ]
     },
     "metadata": {
      "needs_background": "light"
     },
     "output_type": "display_data"
    }
   ],
   "source": [
    "import numpy as np\n",
    "import matplotlib.pyplot as mplt\n",
    "\n",
    "def obj(x):\n",
    "    return 5 * x[0] ** 2 + 10 * x[1] ** 2 + 12 * x[0] * x[1] - 8 * x[0] - 14 * x[1] + 5\n",
    "\n",
    "def grad(x):\n",
    "    return np.array([10 * x[0] + 12 * x[1] - 8, 20 * x[1] + 12 * x[0] - 14])\n",
    "\n",
    "eps = 1e-5  # using epsilon as termination criteria\n",
    "x_0 = np.array([[2], [5]])  # where x_0 is the initial guess\n",
    "iter = 0 \n",
    "soln = [x_0]  \n",
    "x = soln[iter]  # starting with the initial guess of 2,5\n",
    "error = np.linalg.norm(grad(x), ord=2)\n",
    "\n",
    "H = np.array([[10, 12], [12, 20]])  #Hessian matrix\n",
    "dx = 0.5 #Step value\n",
    "\n",
    "error_list = list()\n",
    "iter_list = list()\n",
    "error_list.append(error)\n",
    "iter_list.append(iter)\n",
    "\n",
    "while error >= eps:  # searching while gradient norm is larger than epsilon\n",
    "    x = x - dx * np.matmul(np.linalg.inv(H), grad(x))\n",
    "    soln.append(x)\n",
    "    error = np.linalg.norm(grad(x), ord=2)\n",
    "    iter += 1\n",
    "    error_list.append(error)\n",
    "    iter_list.append(iter)\n",
    "\n",
    "print(soln)  # print the search trajectory\n",
    "print('The point in the plane is', 'x1 =', 1-2*soln[-1][0]-3*soln[-1][1], 'x2 =', soln[-1][0], 'x3 =', soln[-1][1])\n",
    "f_error_list = list()\n",
    "for i in range(len(iter_list)):\n",
    "    f_error_list.append(np.log(abs(obj(soln[i]) - obj(soln[-1]))))\n",
    "    \n",
    "mplt.figure(1)\n",
    "mplt.plot(iter_list, f_error_list)\n",
    "mplt.xlabel('iteration value')\n",
    "mplt.xlim(0, 14)\n",
    "mplt.ylabel('log|f - $f^*$|')\n",
    "mplt.title('''Newton's method''')\n",
    "mplt.show()\n",
    "\n",
    "mplt.figure(2)\n",
    "mplt.plot(iter_list, error_list)\n",
    "mplt.xlabel('iteration value')\n",
    "mplt.ylabel('error')\n",
    "mplt.show()"
   ]
  },
  {
   "cell_type": "code",
   "execution_count": null,
   "id": "38dcffc6",
   "metadata": {},
   "outputs": [],
   "source": []
  }
 ],
 "metadata": {
  "kernelspec": {
   "display_name": "Python 3 (ipykernel)",
   "language": "python",
   "name": "python3"
  },
  "language_info": {
   "codemirror_mode": {
    "name": "ipython",
    "version": 3
   },
   "file_extension": ".py",
   "mimetype": "text/x-python",
   "name": "python",
   "nbconvert_exporter": "python",
   "pygments_lexer": "ipython3",
   "version": "3.9.12"
  }
 },
 "nbformat": 4,
 "nbformat_minor": 5
}
