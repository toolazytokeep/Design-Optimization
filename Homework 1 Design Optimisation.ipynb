{
 "cells": [
  {
   "cell_type": "markdown",
   "id": "70abc576",
   "metadata": {},
   "source": [
    "# Homework Solution\n",
    "## Question 1"
   ]
  },
  {
   "cell_type": "code",
   "execution_count": 28,
   "id": "85b12c2a",
   "metadata": {},
   "outputs": [],
   "source": [
    "from scipy.optimize import minimize\n",
    "\n",
    "fun = lambda x: (x[0] - x[1])**2 + (x[1] + x[2] - 2)**2 + (x[3] - 1)**2 + (x[4] -1)**2"
   ]
  },
  {
   "cell_type": "markdown",
   "id": "8631b5b6",
   "metadata": {},
   "source": [
    " Defining function to minimize $$(x_1 −x_2)^2 + (x_2 + x_3 −2)^2 + (x_4 −1)^2 + (x_5 −1)^2$$"
   ]
  },
  {
   "cell_type": "markdown",
   "id": "f3ace047",
   "metadata": {},
   "source": [
    "Constraints given:\n",
    "\n",
    "$$x_1 + 3x_2 = 0 , x_3 + x_4 −2x_5 = 0, x_2 −x_5 = 0. $$  \n",
    "\n",
    "Bounds given:\n",
    "\n",
    "$$-10 \\leq x_i\\leq10, i = 1, . . . , 5$$"
   ]
  },
  {
   "cell_type": "code",
   "execution_count": 29,
   "id": "d3b3ec50",
   "metadata": {},
   "outputs": [
    {
     "name": "stdout",
     "output_type": "stream",
     "text": [
      " \t\t The optimized value for x with initial value (0,0,0,0,0) is =  \n",
      " \t \t [-0.76744186  0.25581395  0.62790698 -0.11627907  0.25581395]\n"
     ]
    }
   ],
   "source": [
    "bnds = ((-10, 10), (-10, 10), (-10, 10), (-10, 10), (-10, 10))\n",
    "cons = ({'type': 'eq', 'fun': lambda x:  x[0] + 3*x[1]},\n",
    "        {'type': 'eq', 'fun': lambda x: x[2] + x[3] - 2*x[4]},\n",
    "        {'type': 'eq', 'fun': lambda x: x[1] - x[4] })\n",
    "res1 = minimize(fun, (0,0,0,0,0), method='SLSQP', bounds=bnds,\n",
    "               constraints=cons)\n",
    "print (' \\t\\t The optimized value for x with initial value (0,0,0,0,0) is = ','\\n \\t \\t',res1.x)"
   ]
  },
  {
   "cell_type": "code",
   "execution_count": 30,
   "id": "fc36cfa3",
   "metadata": {},
   "outputs": [
    {
     "name": "stdout",
     "output_type": "stream",
     "text": [
      "\t\t The optimized value for x with initial value (1,2,3,4,5) is =  \n",
      "\t\t [-0.76743912  0.25581304  0.62791188 -0.1162858   0.25581304]\n"
     ]
    }
   ],
   "source": [
    "res2 = minimize(fun, (1,2,3,4,5), method='SLSQP', bounds=bnds,\n",
    "               constraints=cons)\n",
    "print ('\\t\\t The optimized value for x with initial value (1,2,3,4,5) is = ','\\n\\t\\t',res2.x)"
   ]
  },
  {
   "cell_type": "code",
   "execution_count": 31,
   "id": "590f1cb2",
   "metadata": {},
   "outputs": [
    {
     "name": "stdout",
     "output_type": "stream",
     "text": [
      "\t\t The optimized value for x with initial value (-8,9,1,-7,10) is : \n",
      "\t\t [-0.76744186  0.25581395  0.62790697 -0.11627907  0.25581395]\n"
     ]
    }
   ],
   "source": [
    "res3 = minimize(fun, (-8,9,1,-7,10), method='SLSQP', bounds=bnds,\n",
    "               constraints=cons)\n",
    "print ('\\t\\t The optimized value for x with initial value (-8,9,1,-7,10) is :','\\n\\t\\t',res3.x)"
   ]
  },
  {
   "cell_type": "markdown",
   "id": "4d931c9a",
   "metadata": {},
   "source": [
    "   It can be noticed that the values are same upto 4 decimal places for different initial values. "
   ]
  },
  {
   "cell_type": "markdown",
   "id": "f05d6aa9",
   "metadata": {},
   "source": [
    "## Question 2\n",
    "**Part (a)**\n",
    "$$f(x) = b^Tx+x^TAx ,\\\\\n",
    "f:\\mathbb{R}^n\\rightarrow\\mathbb{R},\\quad x\\in \\mathbb{R}^n \\quad and \\quad b \\in \\mathbb{R}^n,\\quad A \\in \\mathbb{R}^{n \\times n}$$\n",
    " "
   ]
  },
  {
   "cell_type": "markdown",
   "id": "1824874c",
   "metadata": {},
   "source": [
    "We know that, \\\n",
    "Gradient: \n",
    "\\begin{gather}\n",
    "\\begin{split}\n",
    "\\nabla f(x) & = \\frac{d(b^Tx+^TAx)}{dx} \\\\\n",
    "      & = \\frac{d(b^Tx)}{dx}+\\frac{d(x^TAx)}{dx}\n",
    "\\end{split}\n",
    "\\end{gather}"
   ]
  },
  {
   "cell_type": "markdown",
   "id": "b03f4747",
   "metadata": {},
   "source": [
    "\\begin{align*}\n",
    "Since,\n",
    " b^Tx = x^Tb\n",
    "\\end{align*}"
   ]
  },
  {
   "cell_type": "markdown",
   "id": "6b0fbbee",
   "metadata": {},
   "source": [
    "\\begin{gather}\n",
    "\\frac{d(b^Tx)}{dx}+\\frac{d(x^TAx)}{dx} = \\frac{d(b^Tx)}{dx}+\\frac{d(x^TAx)}{dx} = \\frac{d(x^Tb)}{dx}+\\frac{d(x^TAx)}{dx} = b+\\frac{d(x^TAx)}{dx}\n",
    "\\end{gather}"
   ]
  },
  {
   "cell_type": "markdown",
   "id": "90211775",
   "metadata": {},
   "source": [
    "We know that, \n",
    "\\begin{gather}\n",
    "\\frac{d(f(x,y))}{dx} = \\frac{\\partial(f(x,y))}{\\partial x} + \\frac{d(y^T)}{dx} \\frac{\\partial (f(x,y))}{\\partial y}\\\n",
    "(chain\\ rule)\n",
    "\\end{gather}"
   ]
  },
  {
   "cell_type": "markdown",
   "id": "160a79da",
   "metadata": {},
   "source": [
    "Let $Ax = y$,\n",
    "\\begin{split}\n",
    "\\frac{d(x^TAx)}{dx} &= \\frac{d(x^Ty)}{dx}=\\frac{\\partial(x^Ty)}{\\partial x}+\\frac{d(y^T)}{dx}\\frac{\\partial (x^Ty)}{\\partial y}\\\\\n",
    "\\frac{d(x^TAx)}{dx} &= y + \\frac{d(Ax)^T}{dx} x \\\\\n",
    "&= y + \\frac{d(x^TA^T)}{dx} x \\\\\n",
    "&= y+A^Tx \\\\\n",
    "&= Ax+A^Tx \\\\\n",
    "&= (A+A^T)x.\n",
    "\\end{split}"
   ]
  },
  {
   "cell_type": "markdown",
   "id": "33294857",
   "metadata": {},
   "source": [
    "If A is taken as a  <span style=\"color:red\">**symmetric martrix**</span>,\n",
    "\n",
    "For symmetric matrix, we know that,\n",
    "$ A=A^T \\Rightarrow A + A^T = 2A.  $\\\n",
    "Therefore,\n",
    "\\begin{gather}\n",
    "\\frac{d(x^TAx)}{dx} &= 2Ax.\n",
    "\\end{gather}"
   ]
  },
  {
   "cell_type": "markdown",
   "id": "fa6a1646",
   "metadata": {},
   "source": [
    "Therefore, gradient $f'(x) =$\n",
    "$$\\nabla f(x) = \\frac{d(b^Tx)}{dx}+\\frac{d(x^TAx)}{dx} =\\underline{b + 2Ax}.$$"
   ]
  },
  {
   "cell_type": "markdown",
   "id": "b1e42d5d",
   "metadata": {},
   "source": [
    "Similarly, hessian $f\"(x)=$\n",
    "$$H_f = \\underline{2A}.$$"
   ]
  },
  {
   "cell_type": "markdown",
   "id": "1e220ec4",
   "metadata": {},
   "source": [
    "**Part (b)**\n",
    "\n",
    "The equation for taylor series is given as:\n",
    "$$f(x) \\approx f(x_0) + \\left. \\nabla_x f^T\\right|_{x_0}(x-x_0) + \\frac{1}{2} (x-x_0)^T \\left. H_f\\right|_{x_0}(x-x_0)$$"
   ]
  },
  {
   "cell_type": "markdown",
   "id": "f9f99f56",
   "metadata": {},
   "source": [
    "**For *first order* taylor's approximation :**\n",
    "$$f(x) \\approx f(x_0) + f'(x_0)(x-x_0)$$\n",
    "$$f(x_0) = b^Tx_0+x_0^TAx_0$$\n",
    "$$f'(x_0) = b+2Ax_0$$\n",
    "Therefore $f(x)$ becomes,\n",
    "$$f(x) \\approx b^Tx_0+x_0^TAx_0 +  (b+2Ax_0)(x-x_0)$$  \n",
    "For $x_0 = 0$,\n",
    "$$\\underline{f(x) \\approx bx}$$"
   ]
  },
  {
   "cell_type": "markdown",
   "id": "fac99529",
   "metadata": {},
   "source": [
    "**For *Second order* taylor's approximation :**\n",
    "$$f(x) \\approx f(x_0) + f'(x_0)(x-x_0)+ \\frac{1}{2} f\"(x_0)(x-x_0)^2$$\n",
    "$$f(x_0) = b^Tx_0+x_0^TAx_0$$\n",
    "$$f'(x_0) = b+2Ax_0$$\n",
    "$$f\"(x_0) = 2A$$\n",
    "Therefore $f(x)$ becomes,\n",
    "$$f(x) \\approx b^Tx_0+x_0^TAx_0 +  (b+2Ax_0)(x-x_0)+ \\frac{1}{2}.2A(x-x_0)^2$$  \n",
    "For $x_0 = 0$,\n",
    "$$\\underline{f(x) \\approx bx+Ax^2}$$\n",
    "*As per the solution, **second order** taylor's approximation is closer to the original function as our function was a second order function as well.*"
   ]
  },
  {
   "cell_type": "markdown",
   "id": "896ddcc8",
   "metadata": {},
   "source": [
    "**Part (c)**\n",
    "\n",
    "For A to be positive definite, necessary and sufficient conditions are:\n",
    "1. All eigen values $\\lambda >0.$\n",
    "2. $x^TAx > 0$ for $x \\neq 0.$\n",
    "3. All columns of matrix A are linearly independent. \n",
    "\n",
    "**Part (d)**\n",
    "\n",
    "Necessary and sufficient condition for A to be full rank are:\n",
    "1. A is a symmetric metric matrix.\n",
    "2. A is positive definite.\n",
    "3. $ \\begin {vmatrix} a \\end {vmatrix} \\neq 0 $.\n",
    "\n",
    "**Part (e)**\n",
    "\n",
    "Conditons on b are:\n",
    "1. A and b lie on the same plane.\n",
    "2. b is orthogonal to y or $b^Ty =0.$"
   ]
  },
  {
   "cell_type": "markdown",
   "id": "0fcf7393",
   "metadata": {},
   "source": [
    "## Question 3"
   ]
  },
  {
   "cell_type": "markdown",
   "id": "b71c06cb",
   "metadata": {},
   "source": [
    "**Given:**\\\n",
    "There are N types of food and each food contains M types of nutrition.\\\n",
    "$a_{ij}$ represents quantity of nutrition type $j$ of food type $i$\\\n",
    "$b_j$ represents necessary quality of nutrition type $j$\\\n",
    "$c_j$ represents unit price of food type $i$\\\n",
    "Let, $d_{ij}$ denote the quantity of food type $i$ of nutrition type $j$\n"
   ]
  },
  {
   "cell_type": "markdown",
   "id": "116cebd4",
   "metadata": {},
   "source": [
    "Therefore, the total cost is formulated as:\n",
    "\n",
    "$$\\text{Total cost} = \\sum_{i=1}^{N} \\sum_{j=1}^{M} c_id_{ij}$$"
   ]
  },
  {
   "cell_type": "markdown",
   "id": "b33cf120",
   "metadata": {},
   "source": [
    "To get the minimum cost while satisfying needed nutrition:\n",
    "\n",
    "$$ \\text{Minimize $(d)$}\\sum_{i=1}^{N} \\sum_{j=1}^{M} c_id_{ij} $$\n",
    "\n",
    "$$ \\text{Subject to:}\\sum_{i=1}^{N} \\sum_{j=1}^{M} a_{ij} d_{ij} \\leq \\sum_{j=1}^{M} b_j $$"
   ]
  },
  {
   "cell_type": "code",
   "execution_count": null,
   "id": "a3f214e2",
   "metadata": {},
   "outputs": [],
   "source": []
  }
 ],
 "metadata": {
  "kernelspec": {
   "display_name": "Python 3 (ipykernel)",
   "language": "python",
   "name": "python3"
  },
  "language_info": {
   "codemirror_mode": {
    "name": "ipython",
    "version": 3
   },
   "file_extension": ".py",
   "mimetype": "text/x-python",
   "name": "python",
   "nbconvert_exporter": "python",
   "pygments_lexer": "ipython3",
   "version": "3.9.12"
  }
 },
 "nbformat": 4,
 "nbformat_minor": 5
}
