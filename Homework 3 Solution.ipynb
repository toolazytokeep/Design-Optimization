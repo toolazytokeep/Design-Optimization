{
 "cells": [
  {
   "cell_type": "markdown",
   "id": "6d24c28f",
   "metadata": {},
   "source": [
    "## Problem 1\n",
    "From the conditions given in the problem, the prediction of the pressue can be calculated as follows: \n",
    "$$\n",
    "\\begin{aligned}\n",
    "p_{estimate} = & x_1\\exp\\left(A_{12}\\left(\\frac{A_{21}x_2}{A_{12}x_1+A_{21}x_2}\\right)^2\\right)p_{water}^{sat}\\\\\n",
    "& + x_2\\exp\\left(A_{21}\\left(\\frac{A_{12}x_1}{A_{12}x_1+A_{21}x_2}\\right)^2\\right)p_{1,4 dioxane}^{sat}.\n",
    "\\end{aligned}\n",
    "$$\n",
    "\n",
    "The actual pressure $p$ is given in the problem, the least square function can be written as,\n",
    "$$\n",
    "\\begin{aligned}\n",
    "\\min_{A12, A21} && \\sum_{k=1}^{11}(p_{estimate} - p)^2 \\\\\n",
    "\\end{aligned}\n",
    "$$"
   ]
  },
  {
   "cell_type": "code",
   "execution_count": 30,
   "id": "2029d518",
   "metadata": {},
   "outputs": [
    {
     "name": "stdout",
     "output_type": "stream",
     "text": [
      "A12 and A21 estimated values are: tensor([1.9103, 1.7298], requires_grad=True)\n",
      "Loss is: 0.87948006\n"
     ]
    },
    {
     "data": {
      "text/plain": [
       "<matplotlib.legend.Legend at 0x1f643770310>"
      ]
     },
     "execution_count": 30,
     "metadata": {},
     "output_type": "execute_result"
    },
    {
     "data": {
      "image/png": "[encoded data removed]",
      "text/plain": [
       "<Figure size 432x288 with 1 Axes>"
      ]
     },
     "metadata": {
      "needs_background": "light"
     },
     "output_type": "display_data"
    }
   ],
   "source": [
    "import matplotlib.pyplot as mplt\n",
    "import numpy as np\n",
    "import torch\n",
    "from torch.autograd import Variable\n",
    "from IPython import display\n",
    "\n",
    "X1 = np.array([[0.0, 0.1, 0.2, 0.3, 0.4, 0.5, 0.6, 0.7, 0.8, 0.9, 1.0]])\n",
    "X2 = 1-X1 #Since, X1+X2=1\n",
    "a = np.array(([[8.07131, 1730.63, 233.426], [7.43155, 1554.679, 240.337]]))\n",
    "T = 20\n",
    "p_water = 10 ** (a[0, 0] - a[0, 1] / (T + a[0, 2]))\n",
    "p_dio = 10 ** (a[1, 0] - a[1, 1] / (T + a[1, 2]))\n",
    "P = np.array([[28.1, 34.4, 36.7, 36.9, 36.8, 36.7, 36.5, 35.4, 32.9, 27.7, 17.5]])\n",
    "P = torch.tensor(P, requires_grad=False, dtype=torch.float32)\n",
    "\n",
    "A = Variable(torch.tensor([1.0, 1.0]), requires_grad=True)\n",
    "\n",
    "x1 = torch.tensor(X1, requires_grad=False, dtype=torch.float32)\n",
    "x2 = torch.tensor(X2, requires_grad=False, dtype=torch.float32)\n",
    "\n",
    "dx = 0.00001\n",
    "\n",
    "for i in range(1000):\n",
    "    P_est = x1 * torch.exp(A[0] * (A[1] * x2 / (A[0] * x1 + A[1] * x2)) ** 2) * p_water + \\\n",
    "        x2 * torch.exp(A[1] * (A[0] * x1 / (A[0] * x1 + A[1] * x2)) ** 2) * p_dio\n",
    "\n",
    "    loss = (P_est - P) ** 2\n",
    "    loss = loss.sum()\n",
    "\n",
    "    loss.backward()\n",
    "\n",
    "    with torch.no_grad():\n",
    "        A -= dx * A.grad\n",
    "\n",
    "        A.grad.zero_()\n",
    "\n",
    "print('A12 and A21 estimated values are:',A)\n",
    "print('Loss is:',loss.data.numpy())\n",
    "\n",
    "P_est = P_est.detach().numpy()[0]\n",
    "P = P.detach().numpy()[0]\n",
    "x1 = x1.detach().numpy()[0]\n",
    "\n",
    "mplt.plot(x1, P, label='Actual')\n",
    "mplt.plot(x1, P_hat, label='Estimate')\n",
    "mplt.xlabel('x1')\n",
    "mplt.ylabel('Pressure')\n",
    "mplt.legend()"
   ]
  },
  {
   "cell_type": "markdown",
   "id": "df59963a",
   "metadata": {},
   "source": [
    "## Problem 2"
   ]
  },
  {
   "cell_type": "code",
   "execution_count": 37,
   "id": "824aaa81",
   "metadata": {},
   "outputs": [
    {
     "name": "stdout",
     "output_type": "stream",
     "text": [
      "minimum value for objective function is : -0.6740373938198434\n",
      "x1, x2 when having minumum objective function: [-0.41215344  0.74650392]\n"
     ]
    },
    {
     "data": {
      "image/png": "[encoded data removed]",
      "text/plain": [
       "<Figure size 432x288 with 2 Axes>"
      ]
     },
     "metadata": {
      "needs_background": "light"
     },
     "output_type": "display_data"
    }
   ],
   "source": [
    "import matplotlib.pyplot as mplt\n",
    "import numpy as np\n",
    "import sklearn.gaussian_process as gp\n",
    "\n",
    "from scipy.stats import norm\n",
    "from scipy.optimize import minimize\n",
    "\n",
    "def expected_improvement(x, gaussian_process, evaluated_loss, greater_is_better=False, n_params=1):\n",
    "\n",
    "    x_to_predict = x.reshape(-1, n_params)\n",
    "\n",
    "    mu, sigma = gaussian_process.predict(x_to_predict, return_std=True)\n",
    "\n",
    "    if greater_is_better:\n",
    "        loss_optimum = np.max(evaluated_loss)\n",
    "    else:\n",
    "        loss_optimum = np.min(evaluated_loss)\n",
    "\n",
    "    scaling_factor = (-1) ** (not greater_is_better)\n",
    "\n",
    "    # In case sigma equals zero\n",
    "    with np.errstate(divide='ignore'):\n",
    "        Z = scaling_factor * (mu - loss_optimum) / sigma\n",
    "        expected_improvement = scaling_factor * (mu - loss_optimum) * norm.cdf(Z) + sigma * norm.pdf(Z)\n",
    "        expected_improvement[sigma == 0.0] == 0.0\n",
    "\n",
    "    return -1 * expected_improvement\n",
    "\n",
    "\n",
    "def sample_next_hyperparameter(acquisition_func, gaussian_process, evaluated_loss, greater_is_better=False,\n",
    "                               bounds=(0, 10), n_restarts=25):\n",
    "    best_x = None\n",
    "    best_acquisition_value = 1\n",
    "    n_params = bounds.shape[0]\n",
    "\n",
    "    for starting_point in np.random.uniform(bounds[:, 0], bounds[:, 1], size=(n_restarts, n_params)):\n",
    "\n",
    "        res = minimize(fun=acquisition_func,\n",
    "                       x0=starting_point.reshape(1, -1),\n",
    "                       bounds=bounds,\n",
    "                       method='L-BFGS-B',\n",
    "                       args=(gaussian_process, evaluated_loss, greater_is_better, n_params))\n",
    "\n",
    "        if res.fun < best_acquisition_value:\n",
    "            best_acquisition_value = res.fun\n",
    "            best_x = res.x\n",
    "\n",
    "    return best_x\n",
    "\n",
    "\n",
    "def bayesian_optimisation(n_iters, sample_loss, bounds, x0=None, n_pre_samples=5,\n",
    "                          gp_params=None, random_search=False, alpha=1e-5, epsilon=1e-7):\n",
    "    x_list = []\n",
    "    y_list = []\n",
    "\n",
    "    n_params = bounds.shape[0]\n",
    "\n",
    "    if x0 is None:\n",
    "        for params in np.random.uniform(bounds[:, 0], bounds[:, 1], (n_pre_samples, bounds.shape[0])):\n",
    "            x_list.append(params)\n",
    "            y_list.append(sample_loss(params))\n",
    "            # print()\n",
    "    else:\n",
    "        for params in x0:\n",
    "            x_list.append(params)\n",
    "            y_list.append(sample_loss(params))\n",
    "\n",
    "    xp = np.array(x_list)\n",
    "    yp = np.array(y_list)\n",
    "\n",
    "    # Create the GP\n",
    "    if gp_params is not None:\n",
    "        model = gp.GaussianProcessRegressor(**gp_params)\n",
    "    else:\n",
    "        kernel = gp.kernels.Matern()\n",
    "        model = gp.GaussianProcessRegressor(kernel=kernel,\n",
    "                                            alpha=alpha,\n",
    "                                            n_restarts_optimizer=10,\n",
    "                                            normalize_y=True)\n",
    "\n",
    "    for n in range(n_iters):\n",
    "\n",
    "        model.fit(xp, yp)\n",
    "\n",
    "        # Sample next hyperparameter\n",
    "        if random_search:\n",
    "            x_random = np.random.uniform(bounds[:, 0], bounds[:, 1], size=(random_search, n_params))\n",
    "            ei = -1 * expected_improvement(x_random, model, yp, greater_is_better=True, n_params=n_params)\n",
    "            next_sample = x_random[np.argmax(ei), :]\n",
    "        else:\n",
    "            next_sample = sample_next_hyperparameter(expected_improvement, model, yp, greater_is_better=True, bounds=bounds, n_restarts=100)\n",
    "\n",
    "        # Duplicates will break the GP. In case of a duplicate, we will randomly sample a next query point.\n",
    "        if np.any(np.abs(next_sample - xp) <= epsilon):\n",
    "            next_sample = np.random.uniform(bounds[:, 0], bounds[:, 1], bounds.shape[0])\n",
    "\n",
    "        # Sample loss for new set of parameters\n",
    "        cv_score = sample_loss(next_sample)\n",
    "\n",
    "        # Update lists\n",
    "        x_list.append(next_sample)\n",
    "        y_list.append(cv_score)\n",
    "\n",
    "        # Update xp and yp\n",
    "        xp = np.array(x_list)\n",
    "        yp = np.array(y_list)\n",
    "\n",
    "    return xp, yp\n",
    "def sample_loss(params):\n",
    "    return (4 - 2.1 * params[0] ** 2 + params[0] ** 4 / 3) * params[0] ** 2 + params[0] * params[1] + (-4 + 4 * params[1] ** 2) * params[1] ** 2\n",
    "\n",
    "bounds = np.array([[-3, 3], [-2, 2]])\n",
    "\n",
    "xp, yp = bayesian_optimisation(n_iters=30,\n",
    "                               sample_loss=sample_loss,\n",
    "                               bounds=bounds,\n",
    "                               n_pre_samples=20,\n",
    "                               random_search=100000)\n",
    "\n",
    "print('minimum value for objective function is :', np.min(yp))\n",
    "print('x1, x2 when having minumum objective function:',xp[np.argmin(yp)])\n",
    "\n",
    "\n",
    "X1 = np.linspace(-3, 3, 20)\n",
    "X2 = np.linspace(-2, 2, 20)\n",
    "\n",
    "param_grid = np.array([[x1, x2] for x2 in X2 for x1 in X1])\n",
    "real_loss = [sample_loss(params) for params in param_grid]\n",
    "\n",
    "C, G = np.meshgrid(X1, X2)\n",
    "result = np.array(real_loss).reshape(C.shape)\n",
    "mplt.figure()\n",
    "cp = mplt.contourf(C, G, np.array(real_loss).reshape(C.shape), cmap=mplt.cm.Spectral)\n",
    "mplt.colorbar(cp)\n",
    "mplt.scatter(xp[np.argmin(yp)][0], xp[np.argmin(yp)][1], marker='*', c='gold', s=150)\n",
    "mplt.title('Filled contours plot of objective function $\\mathcal{F}$($x_{1}$, $x_{2}$)')\n",
    "mplt.xlabel('$x_{1}$')\n",
    "mplt.ylabel('$x_{2}$')\n",
    "mplt.show()"
   ]
  },
  {
   "cell_type": "code",
   "execution_count": null,
   "id": "64d6b090",
   "metadata": {},
   "outputs": [],
   "source": []
  }
 ],
 "metadata": {
  "kernelspec": {
   "display_name": "Python 3 (ipykernel)",
   "language": "python",
   "name": "python3"
  },
  "language_info": {
   "codemirror_mode": {
    "name": "ipython",
    "version": 3
   },
   "file_extension": ".py",
   "mimetype": "text/x-python",
   "name": "python",
   "nbconvert_exporter": "python",
   "pygments_lexer": "ipython3",
   "version": "3.9.12"
  }
 },
 "nbformat": 4,
 "nbformat_minor": 5
}
