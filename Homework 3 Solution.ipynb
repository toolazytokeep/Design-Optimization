{
 "cells": [
  {
   "cell_type": "markdown",
   "id": "6d24c28f",
   "metadata": {},
   "source": [
    "## Problem 1\n",
    "From the conditions given in the problem, the prediction of the pressue can be calculated as follows: \n",
    "$$\n",
    "\\begin{aligned}\n",
    "p_{estimate} = & x_1\\exp\\left(A_{12}\\left(\\frac{A_{21}x_2}{A_{12}x_1+A_{21}x_2}\\right)^2\\right)p_{water}^{sat}\\\\\n",
    "& + x_2\\exp\\left(A_{21}\\left(\\frac{A_{12}x_1}{A_{12}x_1+A_{21}x_2}\\right)^2\\right)p_{1,4 dioxane}^{sat}.\n",
    "\\end{aligned}\n",
    "$$\n",
    "\n",
    "from the actual pressure given in the problem, the least square function can be written as,\n",
    "$$\n",
    "\\begin{aligned}\n",
    "\\min_{A12, A21} && \\sum_{k=1}^{11}(p_{estimate} - p)^2 \\\\\n",
    "\\end{aligned}\n",
    "$$"
   ]
  },
  {
   "cell_type": "code",
   "execution_count": 30,
   "id": "2029d518",
   "metadata": {},
   "outputs": [
    {
     "name": "stdout",
     "output_type": "stream",
     "text": [
      "A12 and A21 estimated values are: tensor([1.9103, 1.7298], requires_grad=True)\n",
      "Loss is: 0.87948006\n"
     ]
    },
    {
     "data": {
      "text/plain": [
       "<matplotlib.legend.Legend at 0x1f643770310>"
      ]
     },
     "execution_count": 30,
     "metadata": {},
     "output_type": "execute_result"
    },
    {
     "data": {
      "image/png": "[encoded data removed]",
      "text/plain": [
       "<Figure size 432x288 with 1 Axes>"
      ]
     },
     "metadata": {
      "needs_background": "light"
     },
     "output_type": "display_data"
    }
   ],
   "source": [
    "import matplotlib.pyplot as mplt\n",
    "import numpy as np\n",
    "import torch\n",
    "from torch.autograd import Variable\n",
    "from IPython import display\n",
    "\n",
    "X1 = np.array([[0.0, 0.1, 0.2, 0.3, 0.4, 0.5, 0.6, 0.7, 0.8, 0.9, 1.0]])\n",
    "X2 = 1-X1 #Since, X1+X2=1\n",
    "a = np.array(([[8.07131, 1730.63, 233.426], [7.43155, 1554.679, 240.337]]))\n",
    "T = 20\n",
    "p_water = 10 ** (a[0, 0] - a[0, 1] / (T + a[0, 2]))\n",
    "p_dio = 10 ** (a[1, 0] - a[1, 1] / (T + a[1, 2]))\n",
    "P = np.array([[28.1, 34.4, 36.7, 36.9, 36.8, 36.7, 36.5, 35.4, 32.9, 27.7, 17.5]])\n",
    "P = torch.tensor(P, requires_grad=False, dtype=torch.float32)\n",
    "\n",
    "A = Variable(torch.tensor([1.0, 1.0]), requires_grad=True)\n",
    "\n",
    "x1 = torch.tensor(X1, requires_grad=False, dtype=torch.float32)\n",
    "x2 = torch.tensor(X2, requires_grad=False, dtype=torch.float32)\n",
    "\n",
    "dx = 0.00001\n",
    "\n",
    "for i in range(1000):\n",
    "    P_est = x1 * torch.exp(A[0] * (A[1] * x2 / (A[0] * x1 + A[1] * x2)) ** 2) * p_water + \\\n",
    "        x2 * torch.exp(A[1] * (A[0] * x1 / (A[0] * x1 + A[1] * x2)) ** 2) * p_dio\n",
    "\n",
    "    loss = (P_est - P) ** 2\n",
    "    loss = loss.sum()\n",
    "\n",
    "    loss.backward()\n",
    "\n",
    "    with torch.no_grad():\n",
    "        A -= dx * A.grad\n",
    "\n",
    "        A.grad.zero_()\n",
    "\n",
    "print('A12 and A21 estimated values are:',A)\n",
    "print('Loss is:',loss.data.numpy())\n",
    "\n",
    "P_est = P_est.detach().numpy()[0]\n",
    "P = P.detach().numpy()[0]\n",
    "x1 = x1.detach().numpy()[0]\n",
    "\n",
    "mplt.plot(x1, P, label='Actual')\n",
    "mplt.plot(x1, P_hat, label='Estimate')\n",
    "mplt.xlabel('x1')\n",
    "mplt.ylabel('Pressure')\n",
    "mplt.legend()"
   ]
  },
  {
   "cell_type": "markdown",
   "id": "df59963a",
   "metadata": {},
   "source": [
    "## Problem 2\n"
   ]
  }
 ],
 "metadata": {
  "kernelspec": {
   "display_name": "Python 3 (ipykernel)",
   "language": "python",
   "name": "python3"
  },
  "language_info": {
   "codemirror_mode": {
    "name": "ipython",
    "version": 3
   },
   "file_extension": ".py",
   "mimetype": "text/x-python",
   "name": "python",
   "nbconvert_exporter": "python",
   "pygments_lexer": "ipython3",
   "version": "3.9.12"
  }
 },
 "nbformat": 4,
 "nbformat_minor": 5
}
